{
 "cells": [
  {
   "cell_type": "markdown",
   "metadata": {},
   "source": [
    "### This file is for visualization of the porposed model, inclucing learned motifs by the model, computing t-SNE in 2D plot, and mutation visualization"
   ]
  },
  {
   "cell_type": "code",
   "execution_count": 1,
   "metadata": {},
   "outputs": [
    {
     "name": "stderr",
     "output_type": "stream",
     "text": [
      "Using TensorFlow backend.\n"
     ]
    }
   ],
   "source": [
    "from keras import backend as K\n",
    "import tensorflow as tf\n",
    "from keras import initializers,layers,regularizers\n",
    "from keras.layers import Dropout\n",
    "from keras import callbacks\n",
    "from keras.models import *\n",
    "from keras.engine.topology import Layer\n",
    "from keras.callbacks import EarlyStopping\n",
    "from keras.layers import Dropout,Activation\n",
    "import numpy as np\n",
    "from keras import optimizers\n",
    "from Bio import SeqIO\n",
    "from sklearn.model_selection import train_test_split\n",
    "import keras\n",
    "from sklearn.model_selection import KFold, StratifiedKFold\n",
    "from sklearn import metrics\n",
    "import matplotlib.pyplot as plt\n",
    "from matplotlib import pyplot\n",
    "from matplotlib import pyplot as plt\n",
    "from sklearn.metrics import confusion_matrix\n",
    "from sklearn.metrics import roc_auc_score\n",
    "from sklearn.metrics import roc_curve\n",
    "from sklearn.metrics import precision_recall_curve\n",
    "from sklearn.metrics import auc\n",
    "from scipy import interp\n",
    "from keras.regularizers import l2\n",
    "from keras.layers import Dense,Input,LSTM,Bidirectional,Activation,Conv1D,GRU,BatchNormalization,Concatenate\n",
    "from sklearn.manifold import TSNE"
   ]
  },
  {
   "cell_type": "code",
   "execution_count": 2,
   "metadata": {},
   "outputs": [],
   "source": [
    "def onehot(seq):\n",
    "    bases = ['A','C','D','E','F','G','H','I','K','L','M','N','P','Q','R','S','T','V','W','Y']\n",
    "    X = np.zeros((len(seq),len(seq[0]),len(bases)))\n",
    "    for i,m in enumerate(seq):\n",
    "        for l,s in enumerate(m):\n",
    "    #         print(s)\n",
    "            if s in bases:\n",
    "                X[i,l,bases.index(s)] = 1\n",
    "    return X"
   ]
  },
  {
   "cell_type": "code",
   "execution_count": 3,
   "metadata": {},
   "outputs": [],
   "source": [
    "def read_fasta(file_path):\n",
    "    '''File_path: Path to the fasta file\n",
    "       Returns: List of sequence\n",
    "    '''\n",
    "    one=list(SeqIO.parse(file_path,'fasta'))\n",
    "    return one"
   ]
  },
  {
   "cell_type": "code",
   "execution_count": 4,
   "metadata": {},
   "outputs": [],
   "source": [
    "positive_data=read_fasta('pos_fasta_lysine.txt')\n",
    "negative_data=read_fasta('neg_fasta_lysine.txt')\n",
    "data_pure=positive_data+negative_data # this will be used in mutation analysis "
   ]
  },
  {
   "cell_type": "code",
   "execution_count": 5,
   "metadata": {},
   "outputs": [],
   "source": [
    "one_hot_positive=onehot(positive_data)\n",
    "one_hot_negative=onehot(negative_data)"
   ]
  },
  {
   "cell_type": "code",
   "execution_count": 6,
   "metadata": {},
   "outputs": [],
   "source": [
    "training_data=np.concatenate((one_hot_positive,one_hot_negative),axis=0)"
   ]
  },
  {
   "cell_type": "markdown",
   "metadata": {},
   "source": [
    "### label the data for t-sne visualization"
   ]
  },
  {
   "cell_type": "code",
   "execution_count": 7,
   "metadata": {},
   "outputs": [],
   "source": [
    "training_label=one_hot_positive.shape[0]*[[0,1]]+one_hot_negative.shape[0]*[[1,0]]\n",
    "training_label=np.asarray(training_label)"
   ]
  },
  {
   "cell_type": "code",
   "execution_count": 8,
   "metadata": {},
   "outputs": [],
   "source": [
    "class Length(layers.Layer):\n",
    "    \"\"\"\n",
    "    Compute the length of vectors. This is used to compute a Tensor that has the same shape with y_true in margin_loss\n",
    "    inputs: shape=[dim_1, ..., dim_{n-1}, dim_n]\n",
    "    output: shape=[dim_1, ..., dim_{n-1}]\n",
    "    \"\"\"\n",
    "\n",
    "    def call(self, inputs, **kwargs):\n",
    "        return K.sqrt(K.sum(K.square(inputs), -1))\n",
    "\n",
    "    def compute_output_shape(self, input_shape):\n",
    "        return input_shape[:-1]"
   ]
  },
  {
   "cell_type": "code",
   "execution_count": 9,
   "metadata": {},
   "outputs": [],
   "source": [
    "def squash(vectors, axis=-1):\n",
    "    \"\"\"\n",
    "    The non-linear activation used in Capsule. It drives the length of a large vector to near 1 and small vector to 0\n",
    "    :param vectors: some vectors to be squashed, N-dim tensor\n",
    "    :param axis: the axis to squash\n",
    "    :return: a Tensor with same shape as input vectors\n",
    "    \"\"\"\n",
    "    s_squared_norm = K.sum(K.square(vectors), axis, keepdims=True)\n",
    "    scale = s_squared_norm / (1 + s_squared_norm) / K.sqrt(s_squared_norm + K.epsilon())\n",
    "    return scale * vectors"
   ]
  },
  {
   "cell_type": "code",
   "execution_count": 10,
   "metadata": {},
   "outputs": [],
   "source": [
    "class CapsuleLayer(layers.Layer):\n",
    "    \"\"\"\n",
    "    The capsule layer. It is similar to Dense layer. Dense layer has `in_num` inputs, each is a scalar, the output of the\n",
    "    neuron from the former layer, and it has `out_num` output neurons. CapsuleLayer just expand the output of the neuron\n",
    "    from scalar to vector. So its input shape = [None, input_num_capsule, input_dim_vector] and output shape = \\\n",
    "    [None, num_capsule, dim_vector]. For Dense Layer, input_dim_vector = dim_vector = 1.\n",
    "    :param num_capsule: number of capsules in this layer\n",
    "    :param dim_vector: dimension of the output vectors of the capsules in this layer\n",
    "    :param num_routings: number of iterations for the routing algorithm\n",
    "    \"\"\"\n",
    "\n",
    "    def __init__(self, num_capsule, dim_vector, num_routing=3,\n",
    "                 kernel_initializer='glorot_uniform',\n",
    "                 bias_initializer='zeros',\n",
    "                 **kwargs):\n",
    "        super(CapsuleLayer, self).__init__(**kwargs)\n",
    "        self.num_capsule = num_capsule\n",
    "        self.dim_vector = dim_vector\n",
    "        self.num_routing = num_routing\n",
    "        self.kernel_initializer = initializers.get(kernel_initializer)\n",
    "        self.bias_initializer = initializers.get(bias_initializer)\n",
    "\n",
    "    def build(self, input_shape):\n",
    "        assert len(input_shape) >= 3, \"The input Tensor should have shape=[None, input_num_capsule, input_dim_vector]\"\n",
    "        self.input_num_capsule = input_shape[1]\n",
    "        self.input_dim_vector = input_shape[2]\n",
    "\n",
    "        # Transform matrix\n",
    "        self.W = self.add_weight(\n",
    "            shape=[self.input_num_capsule, self.num_capsule, self.input_dim_vector, self.dim_vector],\n",
    "            initializer=self.kernel_initializer,\n",
    "            name='W')\n",
    "\n",
    "        # Coupling coefficient. The redundant dimensions are just to facilitate subsequent matrix calculation.\n",
    "        self.bias = self.add_weight(shape=[1, self.input_num_capsule, self.num_capsule, 1, 1],\n",
    "                                    initializer=self.bias_initializer,\n",
    "                                    name='bias',\n",
    "                                    trainable=False)\n",
    "        self.built = True\n",
    "\n",
    "    def call(self, inputs, training=None):\n",
    "        # inputs.shape=[None, input_num_capsule, input_dim_vector]\n",
    "        # Expand dims to [None, input_num_capsule, 1, 1, input_dim_vector]\n",
    "        inputs_expand = K.expand_dims(K.expand_dims(inputs, 2), 2)\n",
    "\n",
    "        # Replicate num_capsule dimension to prepare being multiplied by W\n",
    "        # Now it has shape = [None, input_num_capsule, num_capsule, 1, input_dim_vector]\n",
    "        inputs_tiled = K.tile(inputs_expand, [1, 1, self.num_capsule, 1, 1])\n",
    "\n",
    "        \"\"\"\n",
    "        # Begin: inputs_hat computation V1 ---------------------------------------------------------------------#\n",
    "        # Compute `inputs * W` by expanding the first dim of W. More time-consuming and need batch_size.\n",
    "        # w_tiled.shape = [batch_size, input_num_capsule, num_capsule, input_dim_vector, dim_vector]\n",
    "        w_tiled = K.tile(K.expand_dims(self.W, 0), [self.batch_size, 1, 1, 1, 1])\n",
    "        # Transformed vectors, inputs_hat.shape = [None, input_num_capsule, num_capsule, 1, dim_vector]\n",
    "        inputs_hat = K.batch_dot(inputs_tiled, w_tiled, [4, 3])\n",
    "        # End: inputs_hat computation V1 ---------------------------------------------------------------------#\n",
    "        \"\"\"\n",
    "\n",
    "        # Begin: inputs_hat computation V2 ---------------------------------------------------------------------#\n",
    "        # Compute `inputs * W` by scanning inputs_tiled on dimension 0. This is faster but requires Tensorflow.\n",
    "        # inputs_hat.shape = [None, input_num_capsule, num_capsule, 1, dim_vector]\n",
    "        inputs_hat = tf.scan(lambda ac, x: K.batch_dot(x, self.W, [3, 2]),\n",
    "                             elems=inputs_tiled,\n",
    "                             initializer=K.zeros([self.input_num_capsule, self.num_capsule, 1, self.dim_vector]))\n",
    "        # End: inputs_hat computation V2 ---------------------------------------------------------------------#\n",
    "        \"\"\"\n",
    "        # Begin: routing algorithm V1, dynamic ------------------------------------------------------------#\n",
    "        def body(i, b, outputs):\n",
    "            c = tf.nn.softmax(b, dim=2)  # dim=2 is the num_capsule dimension\n",
    "            outputs = squash(K.sum(c * inputs_hat, 1, keepdims=True))\n",
    "            if i != 1:\n",
    "                b = b + K.sum(inputs_hat * outputs, -1, keepdims=True)\n",
    "            return [i-1, b, outputs]\n",
    "        cond = lambda i, b, inputs_hat: i > 0\n",
    "        loop_vars = [K.constant(self.num_routing), self.bias, K.sum(inputs_hat, 1, keepdims=True)]\n",
    "        shape_invariants = [tf.TensorShape([]),\n",
    "                            tf.TensorShape([None, self.input_num_capsule, self.num_capsule, 1, 1]),\n",
    "                            tf.TensorShape([None, 1, self.num_capsule, 1, self.dim_vector])]\n",
    "        _, _, outputs = tf.while_loop(cond, body, loop_vars, shape_invariants)\n",
    "        # End: routing algorithm V1, dynamic ------------------------------------------------------------#\n",
    "        \"\"\"\n",
    "\n",
    "        # Begin: routing algorithm V2, static -----------------------------------------------------------#\n",
    "        # Routing algorithm V2. Use iteration. V2 and V1 both work without much difference on performance\n",
    "        assert self.num_routing > 0, 'The num_routing should be > 0.'\n",
    "        for i in range(self.num_routing):\n",
    "            c = tf.nn.softmax(self.bias, dim=2)\n",
    "            \n",
    "            # dim=2 is the num_capsule dimension\n",
    "            # outputs.shape=[None, 1, num_capsule, 1, dim_vector]\n",
    "            outputs = squash(K.sum(c * inputs_hat, 1, keepdims=True))\n",
    "\n",
    "            # last iteration needs not compute bias which will not be passed to the graph any more anyway.\n",
    "            if i != self.num_routing - 1:\n",
    "                # self.bias = K.update_add(self.bias, K.sum(inputs_hat * outputs, [0, -1], keepdims=True))\n",
    "                self.bias += K.sum(inputs_hat * outputs, -1, keepdims=True)\n",
    "                # tf.summary.histogram('BigBee', self.bias)  # for debugging\n",
    "        # End: routing algorithm V2, static ------------------------------------------------------------#\n",
    "\n",
    "        return K.reshape(outputs, [-1, self.num_capsule, self.dim_vector])\n",
    "\n",
    "    def compute_output_shape(self, input_shape):\n",
    "        return tuple([None, self.num_capsule, self.dim_vector])\n",
    "\n",
    "\n",
    "# In[13]:\n",
    "\n",
    "\n",
    "def PrimaryCap(inputs, dim_vector, n_channels, kernel_size, strides, padding):\n",
    "    \"\"\"\n",
    "    Apply Conv2D `n_channels` times and concatenate all capsules\n",
    "    :param inputs: 4D tensor, shape=[None, width, height, channels]\n",
    "    :param dim_vector: the dim of the output vector of capsule\n",
    "    :param n_channels: the number of types of capsules\n",
    "    :return: output tensor, shape=[None, num_capsule, dim_vector]\n",
    "    \"\"\"\n",
    "    output = layers.Conv1D(filters=dim_vector * n_channels, kernel_size=kernel_size, strides=strides, padding=padding,\n",
    "                           name='primarycap_conv1d')(inputs)\n",
    "    outputs = layers.Reshape(target_shape=[-1, dim_vector], name='primarycap_reshape')(output)\n",
    "    return layers.Lambda(squash, name='primarycap_squash')(outputs)\n",
    "\n",
    "\n",
    "# In[14]:\n",
    "\n",
    "\n",
    "def CapsNet(input_shape, n_class, num_routing):\n",
    "    \"\"\"\n",
    "    A Capsule Network on MNIST.\n",
    "    :param input_shape: data shape, 3d, [width, height, channels]\n",
    "    :param n_class: number of classes\n",
    "    :param num_routing: number of routing iterations\n",
    "    :return: A Keras Model with 2 inputs and 2 outputs\n",
    "    \"\"\"\n",
    "    \n",
    "    x = layers.Input(shape=input_shape)\n",
    "    #conv1=Bidirectional(GRU(gru_len, activation='relu', dropout=dropout_p, recurrent_dropout=dropout_p, return_sequences=True))(x)\n",
    "    conv1 = layers.Conv1D(filters=32, kernel_size=7, strides=1, padding='valid', activation='relu', name='conv1')(x)\n",
    "    conv1=Dropout(0.7)(conv1)\n",
    "    lstm = layers.LSTM(units=128,   name='Lstm',  return_sequences=True)(conv1)\n",
    "    # Layer 2: Conv1D layer with `squash` activation, then reshape to [None, num_capsule, dim_vector]\n",
    "    primarycaps = PrimaryCap(lstm, dim_vector=8, n_channels=16, kernel_size=3, strides=1, padding='valid')\n",
    "\n",
    "    # Layer 3: Capsule layer. Routing algorithm works here.\n",
    "    KcrCaps = CapsuleLayer(num_capsule=n_class, dim_vector=8, num_routing=num_routing, name='KcrCaps')(primarycaps)\n",
    "\n",
    "    # Layer 4: This is an auxiliary layer to replace each capsule with its length. Just to match the true label's shape.\n",
    "    # If using tensorflow, this will not be necessary. :)\n",
    "    out = Length(name='capsnet')(KcrCaps)\n",
    "    #model\n",
    "    train_model = Model(x, out)\n",
    "    return train_model\n"
   ]
  },
  {
   "cell_type": "code",
   "execution_count": 11,
   "metadata": {},
   "outputs": [],
   "source": [
    "def margin_loss(y_true, y_pred):\n",
    "    \"\"\"\n",
    "    Margin loss for Eq.(4). When y_true[i, :] contains not just one `1`, this loss should work too. Not test it.\n",
    "    :param y_true: [None, n_classes]\n",
    "    :param y_pred: [None, num_capsule]\n",
    "    :return: a scalar loss value.\n",
    "    \"\"\"\n",
    "    L = y_true * K.square(K.maximum(0., 0.9 - y_pred)) + \\\n",
    "        0.5 * (1 - y_true) * K.square(K.maximum(0., y_pred - 0.1))\n",
    "\n",
    "    return K.mean(K.sum(L, 1))"
   ]
  },
  {
   "cell_type": "code",
   "execution_count": 12,
   "metadata": {},
   "outputs": [
    {
     "name": "stdout",
     "output_type": "stream",
     "text": [
      "WARNING:tensorflow:From /home/jk/anaconda3/envs/jk/lib/python3.7/site-packages/tensorflow/python/framework/op_def_library.py:263: colocate_with (from tensorflow.python.framework.ops) is deprecated and will be removed in a future version.\n",
      "Instructions for updating:\n",
      "Colocations handled automatically by placer.\n",
      "WARNING:tensorflow:From /home/jk/anaconda3/envs/jk/lib/python3.7/site-packages/keras/backend/tensorflow_backend.py:3445: calling dropout (from tensorflow.python.ops.nn_ops) with keep_prob is deprecated and will be removed in a future version.\n",
      "Instructions for updating:\n",
      "Please use `rate` instead of `keep_prob`. Rate should be set to `rate = 1 - keep_prob`.\n",
      "WARNING:tensorflow:From <ipython-input-10-e5a706068799>:88: calling softmax (from tensorflow.python.ops.nn_ops) with dim is deprecated and will be removed in a future version.\n",
      "Instructions for updating:\n",
      "dim is deprecated, use axis instead\n",
      "WARNING:tensorflow:Variable += will be deprecated. Use variable.assign_add if you want assignment to the variable value or 'x = x + y' if you want a new python Tensor object.\n",
      "_________________________________________________________________\n",
      "Layer (type)                 Output Shape              Param #   \n",
      "=================================================================\n",
      "input_1 (InputLayer)         (None, 31, 20)            0         \n",
      "_________________________________________________________________\n",
      "conv1 (Conv1D)               (None, 25, 32)            4512      \n",
      "_________________________________________________________________\n",
      "dropout_1 (Dropout)          (None, 25, 32)            0         \n",
      "_________________________________________________________________\n",
      "Lstm (LSTM)                  (None, 25, 128)           82432     \n",
      "_________________________________________________________________\n",
      "primarycap_conv1d (Conv1D)   (None, 23, 128)           49280     \n",
      "_________________________________________________________________\n",
      "primarycap_reshape (Reshape) (None, 368, 8)            0         \n",
      "_________________________________________________________________\n",
      "primarycap_squash (Lambda)   (None, 368, 8)            0         \n",
      "_________________________________________________________________\n",
      "KcrCaps (CapsuleLayer)       (None, 2, 8)              47840     \n",
      "_________________________________________________________________\n",
      "capsnet (Length)             (None, 2)                 0         \n",
      "=================================================================\n",
      "Total params: 184,064\n",
      "Trainable params: 183,328\n",
      "Non-trainable params: 736\n",
      "_________________________________________________________________\n"
     ]
    }
   ],
   "source": [
    "mode1= CapsNet(input_shape=(31,20),n_class=2,num_routing=3)\n",
    "mode1.summary()"
   ]
  },
  {
   "cell_type": "markdown",
   "metadata": {},
   "source": [
    "### motifs visualization"
   ]
  },
  {
   "cell_type": "code",
   "execution_count": 13,
   "metadata": {},
   "outputs": [],
   "source": [
    "mode1.load_weights('1Lastepoch_new.h5') # upload a model weight from  from the foldar 'five_fold_model_weights' in DeepCap-Kcr(https://github.com/Jhabindra-bioinfo/DeepCap-Kcr) resporatiory in github "
   ]
  },
  {
   "cell_type": "code",
   "execution_count": 14,
   "metadata": {},
   "outputs": [
    {
     "name": "stdout",
     "output_type": "stream",
     "text": [
      "input_1\n",
      "conv1\n",
      "dropout_1\n",
      "Lstm\n",
      "primarycap_conv1d\n",
      "primarycap_reshape\n",
      "primarycap_squash\n",
      "KcrCaps\n",
      "capsnet\n"
     ]
    }
   ],
   "source": [
    "for layers in mode1.layers:\n",
    "    print(layers.name)"
   ]
  },
  {
   "cell_type": "code",
   "execution_count": 15,
   "metadata": {},
   "outputs": [],
   "source": [
    "f_conv_1D=K.function([mode1.input],[mode1.layers[1].output]) # conv 1 layer\n",
    "f_lstm=K.function([mode1.input],[mode1.layers[3].output])#Lstm layer\n",
    "f_primary_conv1D=K.function([mode1.input],[mode1.layers[4].output])#primary caps\n",
    "capsules=K.function([mode1.input],[mode1.layers[6].output]) "
   ]
  },
  {
   "cell_type": "code",
   "execution_count": 16,
   "metadata": {},
   "outputs": [],
   "source": [
    "positive_ind_data=read_fasta('pos_ind_testdata.txt')\n",
    "negative_ind_data=read_fasta('neg_ind_testdata.txt')\n",
    "visu_data=positive_ind_data+negative_ind_data\n",
    "all_ind_onehot=onehot(visu_data)"
   ]
  },
  {
   "cell_type": "code",
   "execution_count": 17,
   "metadata": {},
   "outputs": [],
   "source": [
    "prediction=np.argmax(mode1.predict(all_ind_onehot),axis=1)"
   ]
  },
  {
   "cell_type": "code",
   "execution_count": 18,
   "metadata": {},
   "outputs": [],
   "source": [
    "positive_prediction=[x for i,x in enumerate(all_ind_onehot) if prediction[i]==1]\n",
    "positive_vis_data=[x for i,x in enumerate(visu_data) if prediction[i]==1]"
   ]
  },
  {
   "cell_type": "code",
   "execution_count": 19,
   "metadata": {},
   "outputs": [],
   "source": [
    "all_positive_onehot=np.asarray(positive_prediction)"
   ]
  },
  {
   "cell_type": "code",
   "execution_count": 20,
   "metadata": {},
   "outputs": [],
   "source": [
    "first_conv1d_output=f_conv_1D([all_positive_onehot])\n",
    "lstm_outputs=f_lstm([all_positive_onehot])\n",
    "primary_conv1D_outputs=f_primary_conv1D([all_positive_onehot])\n",
    "capsules_outputs=capsules([all_positive_onehot])"
   ]
  },
  {
   "cell_type": "code",
   "execution_count": 21,
   "metadata": {},
   "outputs": [],
   "source": [
    "first_conv_seq=[]\n",
    "for seq in positive_vis_data:\n",
    "    temp=[]\n",
    "    for i in range(len(seq)-7+1):\n",
    "        temp.append(seq[i:i+7].seq)\n",
    "    first_conv_seq.append(temp)\n",
    "temp_array=np.asarray(first_conv_seq)"
   ]
  },
  {
   "cell_type": "code",
   "execution_count": 22,
   "metadata": {},
   "outputs": [
    {
     "name": "stdout",
     "output_type": "stream",
     "text": [
      "[Seq('LEKELFR', SingleLetterAlphabet()), Seq('EKELFRE', SingleLetterAlphabet()), Seq('KELFREM', SingleLetterAlphabet()), Seq('ELFREME', SingleLetterAlphabet()), Seq('LFREMES', SingleLetterAlphabet()), Seq('FREMESI', SingleLetterAlphabet()), Seq('REMESIL', SingleLetterAlphabet()), Seq('EMESILQ', SingleLetterAlphabet()), Seq('MESILQN', SingleLetterAlphabet()), Seq('ESILQNK', SingleLetterAlphabet()), Seq('SILQNKH', SingleLetterAlphabet()), Seq('ILQNKHL', SingleLetterAlphabet()), Seq('LQNKHLD', SingleLetterAlphabet()), Seq('QNKHLDV', SingleLetterAlphabet()), Seq('NKHLDVE', SingleLetterAlphabet()), Seq('KHLDVEK', SingleLetterAlphabet()), Seq('HLDVEKI', SingleLetterAlphabet()), Seq('LDVEKIV', SingleLetterAlphabet()), Seq('DVEKIVN', SingleLetterAlphabet()), Seq('VEKIVNL', SingleLetterAlphabet()), Seq('EKIVNLF', SingleLetterAlphabet()), Seq('KIVNLFP', SingleLetterAlphabet()), Seq('IVNLFPQ', SingleLetterAlphabet()), Seq('VNLFPQC', SingleLetterAlphabet()), Seq('NLFPQCT', SingleLetterAlphabet())]\n"
     ]
    }
   ],
   "source": [
    "print(first_conv_seq[0])"
   ]
  },
  {
   "cell_type": "code",
   "execution_count": 23,
   "metadata": {},
   "outputs": [],
   "source": [
    "def get_values(layer_output,num_of_output_channel,output_size):\n",
    "    values=np.zeros((len(layer_output[0]),output_size,num_of_output_channel,1))\n",
    "    for i in range(len(layer_output[0])):\n",
    "        arg_max=np.argmax(layer_output[0][i,:,:],axis=1)\n",
    "        max_val=np.max(layer_output[0][i,:,:],axis=1)\n",
    "        for j,val in enumerate(arg_max):\n",
    "            values[i,j,val,0]+=max_val[j]\n",
    "    return values"
   ]
  },
  {
   "cell_type": "code",
   "execution_count": 24,
   "metadata": {},
   "outputs": [],
   "source": [
    "def get_mottifs(values,filter_size,data,num_of_filters,threshold=None):\n",
    "    motiffs={}\n",
    "    temp=[]\n",
    "    for x in range(len(data)):\n",
    "        temp1=[]\n",
    "        for i in range(len(data[0])-filter_size+1):\n",
    "            temp2=[]\n",
    "            for j in range(num_of_filters):\n",
    "                if threshold:\n",
    "                    if values[x,i,j,0]>=threshold:\n",
    "                        if j in motiffs.keys():\n",
    "                            if type(data[x]) is not list:\n",
    "                                motiffs[j].append(data[x].seq[i:i+filter_size])\n",
    "                            else:\n",
    "                                motiffs[j].append(''.join([str(x) for x in data[x][i:i+filter_size]]))\n",
    "                        else:\n",
    "                            if type(data[x]) is not list:\n",
    "                                motiffs[j]=[data[x].seq[i:i+filter_size]]\n",
    "                            else:\n",
    "                                motiffs[j]=[''.join([str(x) for x in data[x][i:i+filter_size]])]\n",
    "                else:\n",
    "                    temp_mottifs=''.join([str(x) for x in data[x][i:i+filter_size]])\n",
    "                    temp2.append(temp_mottifs)\n",
    "            temp1.append(temp2)\n",
    "        temp.append(temp1)\n",
    "    if threshold:\n",
    "        return motiffs\n",
    "    else:\n",
    "        return temp"
   ]
  },
  {
   "cell_type": "code",
   "execution_count": 25,
   "metadata": {},
   "outputs": [],
   "source": [
    "mottifs_conv1=get_mottifs(get_values(first_conv1d_output,32,25),7,positive_vis_data,32,0.5)"
   ]
  },
  {
   "cell_type": "code",
   "execution_count": 26,
   "metadata": {},
   "outputs": [],
   "source": [
    "mottifs_lstm=get_mottifs(get_values(lstm_outputs,128,25),7,positive_vis_data,128,0.3)"
   ]
  },
  {
   "cell_type": "code",
   "execution_count": 27,
   "metadata": {},
   "outputs": [],
   "source": [
    "mottifs_primary_conv2=get_mottifs(get_values(primary_conv1D_outputs,128,23),3,first_conv_seq,128,0.3)"
   ]
  },
  {
   "cell_type": "markdown",
   "metadata": {},
   "source": [
    "### get motifs file for each capsule in Kcr caps"
   ]
  },
  {
   "cell_type": "code",
   "execution_count": 28,
   "metadata": {},
   "outputs": [],
   "source": [
    "def get_capsule_mottifs(layer_output,sequence,threshold=None):\n",
    "    mottifs={}\n",
    "    max_index=np.argmax(layer_output[0],axis=-1)\n",
    "    h,w,d=layer_output[0].shape\n",
    "    for i in range(h):\n",
    "        for j in range(w):\n",
    "            if threshold:\n",
    "                if layer_output[0][i,j,max_index[i,j]]>threshold:\n",
    "                    if j in mottifs.keys():\n",
    "                        mottifs[j].append(sequence[i,j,max_index[i,j]])\n",
    "                    else:\n",
    "                        mottifs[j]=[sequence[i,j,max_index[i,j]]]\n",
    "            else:\n",
    "                if j in mottifs.keys():\n",
    "                        mottifs[j].append(sequence[i,j,max_index[i,j]])\n",
    "                else:\n",
    "                    mottifs[j]=[sequence[i,j,max_index[i,j]]]\n",
    "    return mottifs"
   ]
  },
  {
   "cell_type": "markdown",
   "metadata": {},
   "source": [
    "### sequence captured by each capsule with threshold 0.5"
   ]
  },
  {
   "cell_type": "code",
   "execution_count": 29,
   "metadata": {},
   "outputs": [],
   "source": [
    "capsule_mottifs=get_capsule_mottifs(capsules_outputs,np.reshape(np.asarray(get_mottifs(get_values(primary_conv1D_outputs,128,23),3,first_conv_seq,128)),(-1,368,8)),threshold=0.5)"
   ]
  },
  {
   "cell_type": "markdown",
   "metadata": {},
   "source": [
    "### By settting threshold of 0.5 the learned sequence by some of capsules (noted that total capsule used in the model were 368) "
   ]
  },
  {
   "cell_type": "code",
   "execution_count": 30,
   "metadata": {},
   "outputs": [
    {
     "data": {
      "text/plain": [
       "dict_keys([109, 125, 141, 157, 173, 189, 205, 221, 237, 253, 266, 269, 282, 285, 298, 301, 314, 317, 330, 333, 346, 349, 362, 365, 234, 74, 90, 106, 108, 122, 124, 138, 140, 154, 156, 170, 172, 186, 188, 202, 204, 218, 250, 357, 364, 61, 77, 93, 350, 366, 26, 225, 338, 354, 293, 300, 309, 316, 325, 332, 348, 289, 305, 321, 337, 353, 58, 241, 257, 273, 206, 222, 238, 284, 290, 306, 322, 334, 318, 254, 270, 280, 296, 303, 312, 319, 328, 335, 341, 344, 220, 94, 110, 126, 286, 302, 42, 360, 252, 268, 277, 261, 245, 29, 45, 92, 165, 78, 274, 358, 351, 367, 142, 158, 174, 209, 76, 197, 177, 60, 44, 97, 113, 229, 249, 264, 265, 281, 287, 297, 313, 329, 345, 361, 81, 136, 152, 168, 190, 236, 193, 271, 340, 356, 248, 10, 143, 161, 213, 54, 70, 86, 120, 255, 181, 145, 310, 326, 342, 294, 232, 149, 46, 62, 63, 129, 327, 343, 359, 239])"
      ]
     },
     "execution_count": 30,
     "metadata": {},
     "output_type": "execute_result"
    }
   ],
   "source": [
    "capsule_mottifs.keys()"
   ]
  },
  {
   "cell_type": "markdown",
   "metadata": {},
   "source": [
    "### save sequence file in fasta format, divided with length of 7"
   ]
  },
  {
   "cell_type": "code",
   "execution_count": null,
   "metadata": {},
   "outputs": [],
   "source": [
    "for keys in capsule_mottifs.keys():\n",
    "    f=open('capsule_new_motif/Caplsule'+str(keys)+'.txt',\"w\") # make your own file path to save to sequence for motifs\n",
    "    for i,seq in enumerate(capsule_mottifs[keys]):\n",
    "        f.write(\">>\"+str(i)+'0\\n')\n",
    "        f.write(str(seq[:7])+'\\n')\n",
    "        f.write(\">>\"+str(i)+'1\\n')\n",
    "        f.write(str(seq[7:14])+'\\n')\n",
    "        f.write(\">>\"+str(i)+'2\\n')\n",
    "        f.write(str(seq[14::])+'\\n')\n",
    "    f.close()"
   ]
  },
  {
   "cell_type": "markdown",
   "metadata": {},
   "source": [
    "### an example,,sequences captured by capsule number 312"
   ]
  },
  {
   "cell_type": "code",
   "execution_count": 34,
   "metadata": {},
   "outputs": [
    {
     "data": {
      "text/plain": [
       "['ARSRPQFRSRPQFRSRPQFRG',\n",
       " 'DRIKRAFRIKRAFLIKRAFLI',\n",
       " 'KQKTKTIQKTKTIRKTKTIRS',\n",
       " 'RNRRIFGNRRIFGLRRIFGLL',\n",
       " 'DRKRKQERKRKQEEKRKQEEQ',\n",
       " 'RVRRAGYVRRAGYARRAGYAY',\n",
       " 'QRKKGKKRKKGKKKKKGKKKG',\n",
       " 'KRKTRHSRKTRHSSKTRHSSN',\n",
       " 'IRVVRKSRVVRKSIVVRKSIA',\n",
       " 'KGRKGGTGRKGGTKRKGGTKG',\n",
       " 'KKPEVKKKPEVKKVPEVKKVE',\n",
       " 'ERLKRLQRLKRLQKLKRLQKS',\n",
       " 'DKKRERRKKRERRKKRERRKK',\n",
       " 'REKMLAAEKMLAAKKMLAAKS',\n",
       " 'LRLKKQMRLKKQMRLKKQMRV',\n",
       " 'HRKIGKERKIGKEQKIGKEQE',\n",
       " 'RERRKKQERRKKQKRRKKQKL',\n",
       " 'KRRRMLSRRRMLSSRRMLSSS',\n",
       " 'LERERKKERERKKARERKKAL',\n",
       " 'LARRFDRARRFDRKRRFDRKA',\n",
       " 'KAIKKRGAIKKRGDIKKRGDY',\n",
       " 'QREKKKEREKKKELEKKKELE',\n",
       " 'RRRSIGNRRSIGNIRSIGNIK',\n",
       " 'TGKRKKKGKRKKKAKRKKKAW',\n",
       " 'LSLKRRGSLKRRGSLKRRGSK',\n",
       " 'RTRPRNGTRPRNGTRPRNGTL',\n",
       " 'KSRVKVKSRVKVKVRVKVKVR',\n",
       " 'VTRNPRKTRNPRKKRNPRKKA',\n",
       " 'ENKTLKRNKTLKRIKTLKRIS',\n",
       " 'SKKPREMKKPREMKKPREMKG',\n",
       " 'LREKERKREKERKKEKERKKE',\n",
       " 'YRRRLLSRRRLLSVRRLLSVN',\n",
       " 'RKRREEKKRREEKLRREEKLL',\n",
       " 'ASQKVTKSQKVTKKQKVTKKT',\n",
       " 'AHGRRKPHGRRKPQGRRKPQI',\n",
       " 'LEEYKRKEEYKRKLEYKRKLA',\n",
       " 'EEKQRLSEKQRLSRKQRLSRK',\n",
       " 'ERKRRQKRKRRQKHKRRQKHQ',\n",
       " 'YRRSRSLRRSRSLVRSRSLVD',\n",
       " 'LRLESKLRLESKLSLESKLSE',\n",
       " 'EHKRKKVHKRKKVEKRKKVEA',\n",
       " 'EEKKRKKEKKRKKHKKRKKHF',\n",
       " 'HKRSLTKKRSLTKTRSLTKTP',\n",
       " 'LKKIRELKKIRELEKIRELES',\n",
       " 'TRKLKYLRKLKYLGKLKYLGV',\n",
       " 'VRRRYSDRRRYSDFRRYSDFE',\n",
       " 'RKRMEKEKRMEKEVRMEKEVS',\n",
       " 'ARRKLKARRKLKAERKLKAEM',\n",
       " 'NKRKQLIKRKQLILRKQLILE',\n",
       " 'PKPKEKMKPKEKMKPKEKMKM',\n",
       " 'RDKIKDKDKIKDKIKIKDKIK',\n",
       " 'TKVKKPTKVKKPTGVKKPTGT',\n",
       " 'VKEKTKVKEKTKVEEKTKVES',\n",
       " 'ERKRRQKRKRRQKHKRRQKHQ',\n",
       " 'RKRMEKEKRMEKEVRMEKEVS',\n",
       " 'KIRPRPTIRPRPTKRPRPTKT',\n",
       " 'EKKNKKKKKNKKKIKNKKKIK',\n",
       " 'ELRRRRGLRRRRGERRRRGET',\n",
       " 'RGRKRKAGRKRKAERKRKAEK']"
      ]
     },
     "execution_count": 34,
     "metadata": {},
     "output_type": "execute_result"
    }
   ],
   "source": [
    "capsule_mottifs[312]"
   ]
  },
  {
   "cell_type": "markdown",
   "metadata": {},
   "source": [
    "# mutagenesis analysis"
   ]
  },
  {
   "cell_type": "code",
   "execution_count": 14,
   "metadata": {},
   "outputs": [],
   "source": [
    "def onehot2(seq):\n",
    "    bases = ['A','C','D','E','F','G','H','I','K','L','M','N','P','Q','R','S','T','V','W','Y']\n",
    "    X = np.zeros((len(seq),len(bases)))\n",
    "    for i,m in enumerate(seq):\n",
    "        if m in bases:\n",
    "            X[i,bases.index(m)] = 1\n",
    "    return X\n",
    "\n"
   ]
  },
  {
   "cell_type": "code",
   "execution_count": 15,
   "metadata": {},
   "outputs": [
    {
     "data": {
      "text/plain": [
       "(31, 20)"
      ]
     },
     "execution_count": 15,
     "metadata": {},
     "output_type": "execute_result"
    }
   ],
   "source": [
    "input_ref_seq = onehot2(data_pure[0]) # use pure data with A C D....... given above\n",
    "np.shape(input_ref_seq)\n"
   ]
  },
  {
   "cell_type": "code",
   "execution_count": 16,
   "metadata": {},
   "outputs": [],
   "source": [
    "nts= ['A','C','D','E','F','G','H','I','K','L','M','N','P','Q','R','S','T','V','W','Y']\n",
    "\n",
    "mutation = np.zeros((len((data_pure)),31,20)) # x_train is your original sequence (In ACGT Form)\n",
    "\n",
    "for k, seq in enumerate((data_pure)):\n",
    "    orig = seq\n",
    "    input_ref_seq = onehot2(seq)  # seq is your onehot encoded form of sequence\n",
    "    input_ref_seq = np.expand_dims(input_ref_seq,axis=0)\n",
    "    pred_y =  mode1.predict(input_ref_seq)\n",
    "    #ref_pred=np.argmax(pred_y,axis=1\n",
    "   # ref_pred = mode1.predict(input_ref_seq)[0][0]\n",
    "    \n",
    "    \n",
    "    \n",
    "    for i in range(31):\n",
    "        for j, nt in enumerate(nts):\n",
    "            txt = list(orig)\n",
    "            txt[i]=nt\n",
    "            #print(alt_seq)\n",
    "            \n",
    "            #alt_seq[i]= nt\n",
    "            alt_seq = ''.join(txt)\n",
    "            input_alt_seq = onehot2(alt_seq)\n",
    "            input_alt_seq = np.expand_dims(input_alt_seq,axis=0)\n",
    "            alt_pred= mode1.predict(input_alt_seq)\n",
    "            diff = abs(pred_y[0][1] - alt_pred[0][1])  # you may try the absolute differences\n",
    "            mutation[k,i,j] = diff\n",
    "            alt_seq=''\n",
    "\n"
   ]
  },
  {
   "cell_type": "code",
   "execution_count": 32,
   "metadata": {},
   "outputs": [],
   "source": [
    "mutagenesis = np.average(mutation,axis=0)"
   ]
  },
  {
   "cell_type": "code",
   "execution_count": 33,
   "metadata": {},
   "outputs": [],
   "source": [
    "np.save('mutagenesis_new',mutagenesis)\n"
   ]
  },
  {
   "cell_type": "code",
   "execution_count": 34,
   "metadata": {},
   "outputs": [],
   "source": [
    "mutagenesis=np.load('mutagenesis_new.npy')"
   ]
  },
  {
   "cell_type": "code",
   "execution_count": 39,
   "metadata": {},
   "outputs": [
    {
     "data": {
      "image/png": "[encoded data removed]",
      "text/plain": [
       "<Figure size 720x720 with 2 Axes>"
      ]
     },
     "metadata": {
      "needs_background": "light"
     },
     "output_type": "display_data"
    }
   ],
   "source": [
    "import numpy as np\n",
    "import seaborn as sns\n",
    "import matplotlib.pyplot as plt\n",
    "#mutagenesis = np.load('mutagenesis.npy')\n",
    "grid_kws = {\"height_ratios\": (.9, .08), \"hspace\": .3}\n",
    "\n",
    "#flights_df = flight.pivot('Sequence', 'Nucleotides') \n",
    "\n",
    "x_axis_labels = ['A','C','D','E','F','G','H','I','K','L','M','N','P','Q','R','S','T','V','W','Y'] # labels for x-axis\n",
    "y_axis_labels = np.arange(1,32,step=1) # labels for y-axis\n",
    "#mutation = np.random.randn(50, 20)\n",
    "fig, ax = plt.subplots(figsize=(10,10))\n",
    "\n",
    "ax = sns.heatmap(mutagenesis, xticklabels=x_axis_labels, yticklabels=y_axis_labels, cmap=\"hot\", vmax=.3, ax=ax)\n",
    "\n",
    "plt.yticks(rotation=0) \n",
    "plt.xlabel('Amino acids',fontweight='bold',fontsize=14)\n",
    "plt.ylabel('Mutate sequence position',fontweight='bold',fontsize=14)\n",
    "fig.savefig(\"Kcr_new_mutation.pdf\")"
   ]
  },
  {
   "cell_type": "markdown",
   "metadata": {},
   "source": [
    "## t-SNE visualization \n",
    "### printing layers"
   ]
  },
  {
   "cell_type": "code",
   "execution_count": 18,
   "metadata": {},
   "outputs": [
    {
     "name": "stdout",
     "output_type": "stream",
     "text": [
      "input_1\n",
      "conv1\n",
      "dropout_1\n",
      "Lstm\n",
      "primarycap_conv1d\n",
      "primarycap_reshape\n",
      "primarycap_squash\n",
      "KcrCaps\n",
      "capsnet\n"
     ]
    }
   ],
   "source": [
    "for layers in mode1.layers: # imoort the layers of the model \n",
    "    print(layers.name)\n"
   ]
  },
  {
   "cell_type": "markdown",
   "metadata": {},
   "source": [
    "### Visualization of the features for KcrCaps, in the same way, anyone can  visualize the featrures for other layers "
   ]
  },
  {
   "cell_type": "code",
   "execution_count": 19,
   "metadata": {},
   "outputs": [
    {
     "name": "stderr",
     "output_type": "stream",
     "text": [
      "/home/jk/anaconda3/lib/python3.6/site-packages/ipykernel_launcher.py:1: UserWarning: Update your `Model` call to the Keras 2 API: `Model(outputs=Tensor(\"Kc..., inputs=Tensor(\"in...)`\n",
      "  \"\"\"Entry point for launching an IPython kernel.\n"
     ]
    }
   ],
   "source": [
    "feature_model=Model(input=mode1.input,outputs=mode1.get_layer('KcrCaps').output) # features  captured by kcrcaps layer\n"
   ]
  },
  {
   "cell_type": "markdown",
   "metadata": {},
   "source": [
    "### With training dataset "
   ]
  },
  {
   "cell_type": "code",
   "execution_count": 38,
   "metadata": {},
   "outputs": [],
   "source": [
    "features=feature_model.predict(training_data)\n"
   ]
  },
  {
   "cell_type": "code",
   "execution_count": 39,
   "metadata": {},
   "outputs": [],
   "source": [
    "n,h,w=features.shape"
   ]
  },
  {
   "cell_type": "code",
   "execution_count": 40,
   "metadata": {},
   "outputs": [],
   "source": [
    "features=features.reshape((n,h*w))"
   ]
  },
  {
   "cell_type": "code",
   "execution_count": 41,
   "metadata": {},
   "outputs": [],
   "source": [
    "embedded=TSNE(n_components=2).fit_transform(features)\n"
   ]
  },
  {
   "cell_type": "code",
   "execution_count": 43,
   "metadata": {},
   "outputs": [
    {
     "data": {
      "image/png": "[encoded data removed]",
      "text/plain": [
       "<matplotlib.figure.Figure at 0x7fce8d79b6a0>"
      ]
     },
     "metadata": {},
     "output_type": "display_data"
    }
   ],
   "source": [
    "capsul_feature=plt.figure(figsize=(6,5))\n",
    "for i, labels in enumerate(training_label):\n",
    "    #if int(labels)==0:\n",
    "    if int(np.argmax(labels))==0:\n",
    "        plt.scatter(embedded[i,0],embedded[i,1],c='r',s=0.9,facecolors='none',label='Non-KCR')\n",
    "    else:\n",
    "        plt.scatter(embedded[i,0],embedded[i,1],c='b',s=0.9,facecolors='none',label='KCR')\n",
    "plt.ylabel('Dimension2',fontweight='bold')\n",
    "plt.xlabel('Dimension1',fontweight='bold')\n",
    "l1=plt.Line2D(range(0),range(0),marker='o',color='r',linestyle='')\n",
    "l2=plt.Line2D(range(0),range(0),marker='o',color='b',linestyle='')\n",
    "plt.legend((l1,l2),('Kcr','Non-Kcr'),loc='upper right',numpoints=1)\n",
    "#capsul_feature.savefig('t-SNE_capsul_ind_independent_KcrCaps.pdf') for saving figure\n",
    "plt.show()\n"
   ]
  },
  {
   "cell_type": "code",
   "execution_count": null,
   "metadata": {},
   "outputs": [],
   "source": []
  }
 ],
 "metadata": {
  "kernelspec": {
   "display_name": "Python 3",
   "language": "python",
   "name": "python3"
  },
  "language_info": {
   "codemirror_mode": {
    "name": "ipython",
    "version": 3
   },
   "file_extension": ".py",
   "mimetype": "text/x-python",
   "name": "python",
   "nbconvert_exporter": "python",
   "pygments_lexer": "ipython3",
   "version": "3.7.4"
  }
 },
 "nbformat": 4,
 "nbformat_minor": 2
}
